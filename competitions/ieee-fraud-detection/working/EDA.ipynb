{
 "cells": [
  {
   "cell_type": "markdown",
   "metadata": {
    "_cell_guid": "1f8ee1af-fab5-480d-937d-18659bdb6b1d",
    "_uuid": "340f14a4-2ed8-421b-98cb-d26aba7da7d9"
   },
   "source": [
    "https://www.kaggle.com/xhlulu/ieee-fraud-xgboost-with-gpu-fit-in-40s"
   ]
  },
  {
   "cell_type": "code",
   "execution_count": 1,
   "metadata": {
    "_cell_guid": "6cd3d246-b91e-47ac-8dea-527fe53bccda",
    "_uuid": "e593380c-e06f-42f9-a426-83ba84151d70"
   },
   "outputs": [],
   "source": [
    "import re\n",
    "import pandas as pd\n",
    "import numpy as np\n",
    "import multiprocessing\n",
    "import gc\n",
    "from tqdm import tqdm_notebook\n",
    "import seaborn as sns\n",
    "sns.set()\n",
    "import matplotlib.pyplot as plt\n",
    "\n",
    "pd.set_option('display.max_columns', 999)"
   ]
  },
  {
   "cell_type": "code",
   "execution_count": 2,
   "metadata": {},
   "outputs": [],
   "source": [
    "def reduce_mem_usage(df, verbose=True):\n",
    "    numerics = ['int16', 'int32', 'int64', 'float16', 'float32', 'float64']\n",
    "    start_mem = df.memory_usage().sum() / 1024**2    \n",
    "    for col in df.columns:\n",
    "        col_type = df[col].dtypes\n",
    "        if col_type in numerics:\n",
    "            c_min = df[col].min()\n",
    "            c_max = df[col].max()\n",
    "            if str(col_type)[:3] == 'int':\n",
    "                if c_min > np.iinfo(np.int8).min and c_max < np.iinfo(np.int8).max:\n",
    "                    df[col] = df[col].astype(np.int8)\n",
    "                elif c_min > np.iinfo(np.int16).min and c_max < np.iinfo(np.int16).max:\n",
    "                    df[col] = df[col].astype(np.int16)\n",
    "                elif c_min > np.iinfo(np.int32).min and c_max < np.iinfo(np.int32).max:\n",
    "                    df[col] = df[col].astype(np.int32)\n",
    "                elif c_min > np.iinfo(np.int64).min and c_max < np.iinfo(np.int64).max:\n",
    "                    df[col] = df[col].astype(np.int64)  \n",
    "            else:\n",
    "                if c_min > np.finfo(np.float16).min and c_max < np.finfo(np.float16).max:\n",
    "                    df[col] = df[col].astype(np.float16)\n",
    "                elif c_min > np.finfo(np.float32).min and c_max < np.finfo(np.float32).max:\n",
    "                    df[col] = df[col].astype(np.float32)\n",
    "                else:\n",
    "                    df[col] = df[col].astype(np.float64)    \n",
    "    end_mem = df.memory_usage().sum() / 1024**2\n",
    "    if verbose: print('Mem. usage decreased to {:5.2f} Mb ({:.1f}% reduction)'.format(end_mem, 100 * (start_mem - end_mem) / start_mem))\n",
    "    return df"
   ]
  },
  {
   "cell_type": "code",
   "execution_count": 3,
   "metadata": {
    "_cell_guid": "1da8bf98-b13e-4695-82eb-fa2b790c57be",
    "_uuid": "2723395f-b0f9-4d58-84ff-6a22a5247acf"
   },
   "outputs": [
    {
     "name": "stdout",
     "output_type": "stream",
     "text": [
      "Mem. usage decreased to 650.48 Mb (66.8% reduction)\n",
      "Mem. usage decreased to 565.37 Mb (66.3% reduction)\n"
     ]
    }
   ],
   "source": [
    "train_id = pd.read_csv('../input/train_identity.csv')\n",
    "train_tr = pd.read_csv('../input/train_transaction.csv')\n",
    "test_id = pd.read_csv('../input/test_identity.csv')\n",
    "test_tr = pd.read_csv('../input/test_transaction.csv')\n",
    "sub = pd.read_csv('../input/sample_submission.csv')\n",
    "\n",
    "train = pd.merge(train_tr, train_id, on='TransactionID', how='left')\n",
    "test = pd.merge(test_tr, test_id, on='TransactionID', how='left')\n",
    "\n",
    "del test_id, test_tr, train_id, train_tr\n",
    "gc.collect()\n",
    "\n",
    "train = reduce_mem_usage(train)\n",
    "test = reduce_mem_usage(test)"
   ]
  },
  {
   "cell_type": "code",
   "execution_count": 17,
   "metadata": {},
   "outputs": [
    {
     "name": "stdout",
     "output_type": "stream",
     "text": [
      "ProductCD set()\n",
      "card4 set()\n",
      "card6 set()\n",
      "P_emaildomain set()\n",
      "R_emaildomain set()\n",
      "M1 set()\n",
      "M2 set()\n",
      "M3 set()\n",
      "M4 set()\n",
      "M5 set()\n",
      "M6 set()\n",
      "M7 set()\n",
      "M8 set()\n",
      "M9 set()\n",
      "id_12 set()\n",
      "id_15 set()\n",
      "id_16 set()\n",
      "id_23 set()\n",
      "id_27 set()\n",
      "id_28 set()\n",
      "id_29 set()\n",
      "id_30 set()\n",
      "id_31 set()\n",
      "id_33 set()\n",
      "id_34 set()\n",
      "id_35 set()\n",
      "id_36 set()\n",
      "id_37 set()\n",
      "id_38 set()\n",
      "DeviceType set()\n",
      "DeviceInfo set()\n"
     ]
    }
   ],
   "source": [
    "for col in train.columns:\n",
    "    if train[col].dtype == 'object':\n",
    "        train_uniques = set(train[col].dropna().unique())\n",
    "        test_uniques = set(train[col].dropna().unique())\n",
    "        \n",
    "        diff = train_uniques - test_uniques\n",
    "        print(col, diff)\n",
    "        "
   ]
  },
  {
   "cell_type": "code",
   "execution_count": 18,
   "metadata": {
    "_cell_guid": "f94ab8ae-ee0c-49e7-954f-6aec6e97183c",
    "_uuid": "ee6a6c94-7d09-49d5-aefb-808b60eba7d8"
   },
   "outputs": [],
   "source": [
    "def select_cols_to_drop(df):\n",
    "    one_value_cols = [col for col in df.columns if df[col].nunique() <= 1]\n",
    "    many_null_cols = [col for col in df.columns if df[col].isnull().sum() / df.shape[0] > 0.9]\n",
    "    big_top_value_cols = [col for col in df.columns if df[col].value_counts(dropna=False, normalize=True).values[0] > 0.9]\n",
    "    return one_value_cols + many_null_cols + big_top_value_cols"
   ]
  },
  {
   "cell_type": "code",
   "execution_count": 19,
   "metadata": {
    "_cell_guid": "2deae4f6-df59-477d-9175-d429a6d487d4",
    "_uuid": "6f156617-81ee-449d-8be0-0b6975604637"
   },
   "outputs": [],
   "source": [
    "# cols_to_drop = list(set(select_cols_to_drop(train) + select_cols_to_drop(test)))\n",
    "# cols_to_drop.remove('isFraud')\n",
    "\n",
    "# train = train.drop(cols_to_drop, axis=1)\n",
    "# test = test.drop(cols_to_drop, axis=1)"
   ]
  },
  {
   "cell_type": "code",
   "execution_count": 20,
   "metadata": {},
   "outputs": [],
   "source": [
    "import re\n",
    "\n",
    "def select_columns_regexp(df, regexp):\n",
    "    return [c for c in df.columns if re.search(regexp, c)]"
   ]
  },
  {
   "cell_type": "code",
   "execution_count": 21,
   "metadata": {},
   "outputs": [
    {
     "data": {
      "text/plain": [
       "Index(['TransactionID', 'isFraud', 'TransactionDT', 'TransactionAmt',\n",
       "       'ProductCD', 'card1', 'card2', 'card3', 'card4', 'card5',\n",
       "       ...\n",
       "       'id_31', 'id_32', 'id_33', 'id_34', 'id_35', 'id_36', 'id_37', 'id_38',\n",
       "       'DeviceType', 'DeviceInfo'],\n",
       "      dtype='object', length=434)"
      ]
     },
     "execution_count": 21,
     "metadata": {},
     "output_type": "execute_result"
    }
   ],
   "source": [
    "train.columns"
   ]
  },
  {
   "cell_type": "code",
   "execution_count": 22,
   "metadata": {},
   "outputs": [],
   "source": [
    "card_cols = select_columns_regexp(train, r'card\\d+')\n",
    "C_cols = select_columns_regexp(train, r'C\\d+')\n",
    "D_cols = select_columns_regexp(train, r'D\\d+')\n",
    "V_cols = select_columns_regexp(train, r'V\\d+')\n",
    "M_cols = select_columns_regexp(train, r'M\\d+')\n",
    "id_cols = select_columns_regexp(train, r'id_\\d+')\n",
    "addr_cols = select_columns_regexp(train, r'addr\\d+')"
   ]
  },
  {
   "cell_type": "markdown",
   "metadata": {},
   "source": [
    "## IsFraud"
   ]
  },
  {
   "cell_type": "code",
   "execution_count": 23,
   "metadata": {},
   "outputs": [],
   "source": [
    "is_fraud = train['isFraud'] == 1"
   ]
  },
  {
   "cell_type": "code",
   "execution_count": 24,
   "metadata": {},
   "outputs": [
    {
     "data": {
      "text/plain": [
       "<matplotlib.axes._subplots.AxesSubplot at 0x1a2b766d30>"
      ]
     },
     "execution_count": 24,
     "metadata": {},
     "output_type": "execute_result"
    },
    {
     "data": {
      "image/png": "[encoded data removed]",
      "text/plain": [
       "<Figure size 432x288 with 1 Axes>"
      ]
     },
     "metadata": {
      "needs_background": "light"
     },
     "output_type": "display_data"
    }
   ],
   "source": [
    "fraud_counts = train['isFraud'].value_counts()\n",
    "sns.barplot(fraud_counts.index, fraud_counts.values)"
   ]
  },
  {
   "cell_type": "markdown",
   "metadata": {},
   "source": [
    "## Transaction Amount"
   ]
  },
  {
   "cell_type": "code",
   "execution_count": 25,
   "metadata": {},
   "outputs": [
    {
     "data": {
      "text/plain": [
       "<matplotlib.axes._subplots.AxesSubplot at 0x1a2e3c0978>"
      ]
     },
     "execution_count": 25,
     "metadata": {},
     "output_type": "execute_result"
    },
    {
     "data": {
      "image/png": "[encoded data removed]",
      "text/plain": [
       "<Figure size 432x288 with 1 Axes>"
      ]
     },
     "metadata": {
      "needs_background": "light"
     },
     "output_type": "display_data"
    }
   ],
   "source": [
    "sns.distplot(np.log(train['TransactionAmt']), kde=None)"
   ]
  },
  {
   "cell_type": "code",
   "execution_count": 26,
   "metadata": {},
   "outputs": [
    {
     "data": {
      "text/plain": [
       "<matplotlib.axes._subplots.AxesSubplot at 0x1a2e9f9630>"
      ]
     },
     "execution_count": 26,
     "metadata": {},
     "output_type": "execute_result"
    },
    {
     "data": {
      "image/png": "[encoded data removed]",
      "text/plain": [
       "<Figure size 432x288 with 1 Axes>"
      ]
     },
     "metadata": {
      "needs_background": "light"
     },
     "output_type": "display_data"
    }
   ],
   "source": [
    "sns.distplot(np.log(test['TransactionAmt']), kde=None)"
   ]
  },
  {
   "cell_type": "code",
   "execution_count": 92,
   "metadata": {},
   "outputs": [],
   "source": [
    "def heatmap(corr, figsize=(6, 6)):\n",
    "    mask = np.zeros_like(corr, dtype=np.bool)\n",
    "    mask[np.triu_indices_from(mask, k=1)] = True\n",
    "    cmap = sns.diverging_palette(220, 10, as_cmap=True)\n",
    "\n",
    "    fig, ax = plt.subplots(figsize=figsize)\n",
    "    ax = sns.heatmap(corr, mask=mask, vmin=-1, vmax=1, cmap=cmap, square=True, linewidths=0.2, cbar_kws={\"shrink\": .5}, ax=ax)"
   ]
  },
  {
   "cell_type": "code",
   "execution_count": 28,
   "metadata": {},
   "outputs": [
    {
     "name": "stdout",
     "output_type": "stream",
     "text": [
      "<class 'pandas.core.frame.DataFrame'>\n",
      "Int64Index: 590540 entries, 0 to 590539\n",
      "Data columns (total 14 columns):\n",
      "C1     590540 non-null float16\n",
      "C2     590540 non-null float16\n",
      "C3     590540 non-null float16\n",
      "C4     590540 non-null float16\n",
      "C5     590540 non-null float16\n",
      "C6     590540 non-null float16\n",
      "C7     590540 non-null float16\n",
      "C8     590540 non-null float16\n",
      "C9     590540 non-null float16\n",
      "C10    590540 non-null float16\n",
      "C11    590540 non-null float16\n",
      "C12    590540 non-null float16\n",
      "C13    590540 non-null float16\n",
      "C14    590540 non-null float16\n",
      "dtypes: float16(14)\n",
      "memory usage: 20.3 MB\n"
     ]
    }
   ],
   "source": [
    "train[C_cols].info()"
   ]
  },
  {
   "cell_type": "code",
   "execution_count": 29,
   "metadata": {
    "scrolled": false
   },
   "outputs": [
    {
     "data": {
      "image/png": "[encoded data removed]",
      "text/plain": [
       "<Figure size 432x288 with 1 Axes>"
      ]
     },
     "metadata": {
      "needs_background": "light"
     },
     "output_type": "display_data"
    },
    {
     "data": {
      "image/png": "[encoded data removed]",
      "text/plain": [
       "<Figure size 432x288 with 1 Axes>"
      ]
     },
     "metadata": {
      "needs_background": "light"
     },
     "output_type": "display_data"
    },
    {
     "data": {
      "image/png": "[encoded data removed]",
      "text/plain": [
       "<Figure size 432x288 with 1 Axes>"
      ]
     },
     "metadata": {
      "needs_background": "light"
     },
     "output_type": "display_data"
    },
    {
     "data": {
      "image/png": "[encoded data removed]",
      "text/plain": [
       "<Figure size 432x288 with 1 Axes>"
      ]
     },
     "metadata": {
      "needs_background": "light"
     },
     "output_type": "display_data"
    },
    {
     "data": {
      "image/png": "[encoded data removed]",
      "text/plain": [
       "<Figure size 432x288 with 1 Axes>"
      ]
     },
     "metadata": {
      "needs_background": "light"
     },
     "output_type": "display_data"
    },
    {
     "data": {
      "image/png": "[encoded data removed]",
      "text/plain": [
       "<Figure size 432x288 with 1 Axes>"
      ]
     },
     "metadata": {
      "needs_background": "light"
     },
     "output_type": "display_data"
    },
    {
     "data": {
      "image/png": "[encoded data removed]",
      "text/plain": [
       "<Figure size 432x288 with 1 Axes>"
      ]
     },
     "metadata": {
      "needs_background": "light"
     },
     "output_type": "display_data"
    },
    {
     "data": {
      "image/png": "[encoded data removed]",
      "text/plain": [
       "<Figure size 432x288 with 1 Axes>"
      ]
     },
     "metadata": {
      "needs_background": "light"
     },
     "output_type": "display_data"
    },
    {
     "data": {
      "image/png": "[encoded data removed]",
      "text/plain": [
       "<Figure size 432x288 with 1 Axes>"
      ]
     },
     "metadata": {
      "needs_background": "light"
     },
     "output_type": "display_data"
    },
    {
     "data": {
      "image/png": "[encoded data removed]",
      "text/plain": [
       "<Figure size 432x288 with 1 Axes>"
      ]
     },
     "metadata": {
      "needs_background": "light"
     },
     "output_type": "display_data"
    },
    {
     "data": {
      "image/png": "[encoded data removed]",
      "text/plain": [
       "<Figure size 432x288 with 1 Axes>"
      ]
     },
     "metadata": {
      "needs_background": "light"
     },
     "output_type": "display_data"
    },
    {
     "data": {
      "image/png": "[encoded data removed]",
      "text/plain": [
       "<Figure size 432x288 with 1 Axes>"
      ]
     },
     "metadata": {
      "needs_background": "light"
     },
     "output_type": "display_data"
    },
    {
     "data": {
      "image/png": "[encoded data removed]",
      "text/plain": [
       "<Figure size 432x288 with 1 Axes>"
      ]
     },
     "metadata": {
      "needs_background": "light"
     },
     "output_type": "display_data"
    },
    {
     "data": {
      "image/png": "[encoded data removed]",
      "text/plain": [
       "<Figure size 432x288 with 1 Axes>"
      ]
     },
     "metadata": {
      "needs_background": "light"
     },
     "output_type": "display_data"
    }
   ],
   "source": [
    "for col in C_cols:\n",
    "    sns.distplot(train[col], kde=None)\n",
    "    plt.show()"
   ]
  },
  {
   "cell_type": "code",
   "execution_count": 30,
   "metadata": {},
   "outputs": [
    {
     "data": {
      "image/png": "[encoded data removed]",
      "text/plain": [
       "<Figure size 432x432 with 2 Axes>"
      ]
     },
     "metadata": {
      "needs_background": "light"
     },
     "output_type": "display_data"
    }
   ],
   "source": [
    "heatmap(train[C_cols + ['isFraud']].corr())"
   ]
  },
  {
   "cell_type": "code",
   "execution_count": 31,
   "metadata": {},
   "outputs": [
    {
     "data": {
      "text/plain": [
       "0.0     588111\n",
       "1.0       2137\n",
       "2.0        180\n",
       "3.0         58\n",
       "4.0          7\n",
       "16.0         6\n",
       "9.0          5\n",
       "11.0         5\n",
       "5.0          3\n",
       "13.0         3\n",
       "14.0         3\n",
       "10.0         2\n",
       "8.0          2\n",
       "12.0         2\n",
       "15.0         2\n",
       "7.0          2\n",
       "17.0         2\n",
       "6.0          1\n",
       "19.0         1\n",
       "20.0         1\n",
       "21.0         1\n",
       "22.0         1\n",
       "23.0         1\n",
       "24.0         1\n",
       "25.0         1\n",
       "26.0         1\n",
       "18.0         1\n",
       "Name: C3, dtype: int64"
      ]
     },
     "execution_count": 31,
     "metadata": {},
     "output_type": "execute_result"
    }
   ],
   "source": [
    "train['C3'].value_counts()"
   ]
  },
  {
   "cell_type": "code",
   "execution_count": 32,
   "metadata": {},
   "outputs": [
    {
     "name": "stdout",
     "output_type": "stream",
     "text": [
      "<class 'pandas.core.frame.DataFrame'>\n",
      "Int64Index: 590540 entries, 0 to 590539\n",
      "Data columns (total 7 columns):\n",
      "card1      590540 non-null int16\n",
      "card2      581607 non-null float16\n",
      "card3      588975 non-null float16\n",
      "card4      588963 non-null object\n",
      "card5      586281 non-null float16\n",
      "card6      588969 non-null object\n",
      "isFraud    590540 non-null int8\n",
      "dtypes: float16(3), int16(1), int8(1), object(2)\n",
      "memory usage: 18.6+ MB\n"
     ]
    }
   ],
   "source": [
    "train[card_cols + ['isFraud']].info()"
   ]
  },
  {
   "cell_type": "markdown",
   "metadata": {},
   "source": [
    "## Card cols"
   ]
  },
  {
   "cell_type": "code",
   "execution_count": 33,
   "metadata": {},
   "outputs": [
    {
     "data": {
      "image/png": "[encoded data removed]",
      "text/plain": [
       "<Figure size 432x432 with 2 Axes>"
      ]
     },
     "metadata": {
      "needs_background": "light"
     },
     "output_type": "display_data"
    }
   ],
   "source": [
    "heatmap(train[card_cols + ['isFraud']].corr())"
   ]
  },
  {
   "cell_type": "code",
   "execution_count": 34,
   "metadata": {},
   "outputs": [
    {
     "data": {
      "text/plain": [
       "visa                384767\n",
       "mastercard          189217\n",
       "american express      8328\n",
       "discover              6651\n",
       "Name: card4, dtype: int64"
      ]
     },
     "execution_count": 34,
     "metadata": {},
     "output_type": "execute_result"
    }
   ],
   "source": [
    "train['card4'].value_counts()"
   ]
  },
  {
   "cell_type": "code",
   "execution_count": 35,
   "metadata": {},
   "outputs": [
    {
     "data": {
      "text/plain": [
       "debit              439938\n",
       "credit             148986\n",
       "debit or credit        30\n",
       "charge card            15\n",
       "Name: card6, dtype: int64"
      ]
     },
     "execution_count": 35,
     "metadata": {},
     "output_type": "execute_result"
    }
   ],
   "source": [
    "train['card6'].value_counts()"
   ]
  },
  {
   "cell_type": "code",
   "execution_count": 36,
   "metadata": {},
   "outputs": [
    {
     "data": {
      "text/plain": [
       "visa                334882\n",
       "mastercard          158169\n",
       "american express      7681\n",
       "discover              2873\n",
       "Name: card4, dtype: int64"
      ]
     },
     "execution_count": 36,
     "metadata": {},
     "output_type": "execute_result"
    }
   ],
   "source": [
    "test['card4'].value_counts()"
   ]
  },
  {
   "cell_type": "code",
   "execution_count": 37,
   "metadata": {},
   "outputs": [
    {
     "data": {
      "text/plain": [
       "7919     14932\n",
       "9500     14162\n",
       "15885    10361\n",
       "17188    10344\n",
       "15066     7945\n",
       "12695     7091\n",
       "12544     6773\n",
       "6019      6771\n",
       "2803      6141\n",
       "7585      5334\n",
       "10616     5172\n",
       "12839     5129\n",
       "3154      4614\n",
       "2616      4410\n",
       "18132     4209\n",
       "9633      4158\n",
       "15497     3977\n",
       "16132     3929\n",
       "2884      3873\n",
       "16075     3748\n",
       "11207     3693\n",
       "10112     3560\n",
       "7508      3490\n",
       "10057     3166\n",
       "12501     3152\n",
       "7826      3006\n",
       "16659     2988\n",
       "12577     2891\n",
       "5812      2818\n",
       "7664      2792\n",
       "         ...  \n",
       "15229        1\n",
       "7772         1\n",
       "12456        1\n",
       "16550        1\n",
       "5218         1\n",
       "3958         1\n",
       "1911         1\n",
       "7342         1\n",
       "11944        1\n",
       "8572         1\n",
       "4369         1\n",
       "15463        1\n",
       "10621        1\n",
       "11365        1\n",
       "2937         1\n",
       "9084         1\n",
       "3169         1\n",
       "3859         1\n",
       "13182        1\n",
       "17776        1\n",
       "3449         1\n",
       "5498         1\n",
       "7547         1\n",
       "4706         1\n",
       "2657         1\n",
       "12390        1\n",
       "10341        1\n",
       "10006        1\n",
       "15743        1\n",
       "17105        1\n",
       "Name: card1, Length: 13553, dtype: int64"
      ]
     },
     "execution_count": 37,
     "metadata": {},
     "output_type": "execute_result"
    }
   ],
   "source": [
    "train['card1'].value_counts()"
   ]
  },
  {
   "cell_type": "code",
   "execution_count": 38,
   "metadata": {},
   "outputs": [
    {
     "data": {
      "text/plain": [
       "13553"
      ]
     },
     "execution_count": 38,
     "metadata": {},
     "output_type": "execute_result"
    }
   ],
   "source": [
    "train['card1'].nunique()"
   ]
  },
  {
   "cell_type": "code",
   "execution_count": 39,
   "metadata": {},
   "outputs": [
    {
     "data": {
      "text/plain": [
       "visa                384767\n",
       "mastercard          189217\n",
       "american express      8328\n",
       "discover              6651\n",
       "Name: card4, dtype: int64"
      ]
     },
     "execution_count": 39,
     "metadata": {},
     "output_type": "execute_result"
    }
   ],
   "source": [
    "train['card4'].value_counts()"
   ]
  },
  {
   "cell_type": "markdown",
   "metadata": {},
   "source": [
    "## M cols"
   ]
  },
  {
   "cell_type": "code",
   "execution_count": 40,
   "metadata": {},
   "outputs": [
    {
     "name": "stdout",
     "output_type": "stream",
     "text": [
      "<class 'pandas.core.frame.DataFrame'>\n",
      "Int64Index: 590540 entries, 0 to 590539\n",
      "Data columns (total 9 columns):\n",
      "M1    319440 non-null object\n",
      "M2    319440 non-null object\n",
      "M3    319440 non-null object\n",
      "M4    309096 non-null object\n",
      "M5    240058 non-null object\n",
      "M6    421180 non-null object\n",
      "M7    244275 non-null object\n",
      "M8    244288 non-null object\n",
      "M9    244288 non-null object\n",
      "dtypes: object(9)\n",
      "memory usage: 45.1+ MB\n"
     ]
    }
   ],
   "source": [
    "train[M_cols].info()"
   ]
  },
  {
   "cell_type": "code",
   "execution_count": 41,
   "metadata": {},
   "outputs": [
    {
     "data": {
      "text/html": [
       "<div>\n",
       "<style scoped>\n",
       "    .dataframe tbody tr th:only-of-type {\n",
       "        vertical-align: middle;\n",
       "    }\n",
       "\n",
       "    .dataframe tbody tr th {\n",
       "        vertical-align: top;\n",
       "    }\n",
       "\n",
       "    .dataframe thead th {\n",
       "        text-align: right;\n",
       "    }\n",
       "</style>\n",
       "<table border=\"1\" class=\"dataframe\">\n",
       "  <thead>\n",
       "    <tr style=\"text-align: right;\">\n",
       "      <th></th>\n",
       "      <th>M1</th>\n",
       "      <th>M2</th>\n",
       "      <th>M3</th>\n",
       "      <th>M4</th>\n",
       "      <th>M5</th>\n",
       "      <th>M6</th>\n",
       "      <th>M7</th>\n",
       "      <th>M8</th>\n",
       "      <th>M9</th>\n",
       "    </tr>\n",
       "  </thead>\n",
       "  <tbody>\n",
       "    <tr>\n",
       "      <th>0</th>\n",
       "      <td>T</td>\n",
       "      <td>T</td>\n",
       "      <td>T</td>\n",
       "      <td>M2</td>\n",
       "      <td>F</td>\n",
       "      <td>T</td>\n",
       "      <td>NaN</td>\n",
       "      <td>NaN</td>\n",
       "      <td>NaN</td>\n",
       "    </tr>\n",
       "    <tr>\n",
       "      <th>1</th>\n",
       "      <td>NaN</td>\n",
       "      <td>NaN</td>\n",
       "      <td>NaN</td>\n",
       "      <td>M0</td>\n",
       "      <td>T</td>\n",
       "      <td>T</td>\n",
       "      <td>NaN</td>\n",
       "      <td>NaN</td>\n",
       "      <td>NaN</td>\n",
       "    </tr>\n",
       "    <tr>\n",
       "      <th>2</th>\n",
       "      <td>T</td>\n",
       "      <td>T</td>\n",
       "      <td>T</td>\n",
       "      <td>M0</td>\n",
       "      <td>F</td>\n",
       "      <td>F</td>\n",
       "      <td>F</td>\n",
       "      <td>F</td>\n",
       "      <td>F</td>\n",
       "    </tr>\n",
       "    <tr>\n",
       "      <th>3</th>\n",
       "      <td>NaN</td>\n",
       "      <td>NaN</td>\n",
       "      <td>NaN</td>\n",
       "      <td>M0</td>\n",
       "      <td>T</td>\n",
       "      <td>F</td>\n",
       "      <td>NaN</td>\n",
       "      <td>NaN</td>\n",
       "      <td>NaN</td>\n",
       "    </tr>\n",
       "    <tr>\n",
       "      <th>4</th>\n",
       "      <td>NaN</td>\n",
       "      <td>NaN</td>\n",
       "      <td>NaN</td>\n",
       "      <td>NaN</td>\n",
       "      <td>NaN</td>\n",
       "      <td>NaN</td>\n",
       "      <td>NaN</td>\n",
       "      <td>NaN</td>\n",
       "      <td>NaN</td>\n",
       "    </tr>\n",
       "  </tbody>\n",
       "</table>\n",
       "</div>"
      ],
      "text/plain": [
       "    M1   M2   M3   M4   M5   M6   M7   M8   M9\n",
       "0    T    T    T   M2    F    T  NaN  NaN  NaN\n",
       "1  NaN  NaN  NaN   M0    T    T  NaN  NaN  NaN\n",
       "2    T    T    T   M0    F    F    F    F    F\n",
       "3  NaN  NaN  NaN   M0    T    F  NaN  NaN  NaN\n",
       "4  NaN  NaN  NaN  NaN  NaN  NaN  NaN  NaN  NaN"
      ]
     },
     "execution_count": 41,
     "metadata": {},
     "output_type": "execute_result"
    }
   ],
   "source": [
    "train[M_cols].head()"
   ]
  },
  {
   "cell_type": "markdown",
   "metadata": {},
   "source": [
    "## id cols"
   ]
  },
  {
   "cell_type": "code",
   "execution_count": 42,
   "metadata": {},
   "outputs": [
    {
     "data": {
      "text/html": [
       "<div>\n",
       "<style scoped>\n",
       "    .dataframe tbody tr th:only-of-type {\n",
       "        vertical-align: middle;\n",
       "    }\n",
       "\n",
       "    .dataframe tbody tr th {\n",
       "        vertical-align: top;\n",
       "    }\n",
       "\n",
       "    .dataframe thead th {\n",
       "        text-align: right;\n",
       "    }\n",
       "</style>\n",
       "<table border=\"1\" class=\"dataframe\">\n",
       "  <thead>\n",
       "    <tr style=\"text-align: right;\">\n",
       "      <th></th>\n",
       "      <th>id_01</th>\n",
       "      <th>id_02</th>\n",
       "      <th>id_03</th>\n",
       "      <th>id_04</th>\n",
       "      <th>id_05</th>\n",
       "      <th>id_06</th>\n",
       "      <th>id_07</th>\n",
       "      <th>id_08</th>\n",
       "      <th>id_09</th>\n",
       "      <th>id_10</th>\n",
       "      <th>id_11</th>\n",
       "      <th>id_12</th>\n",
       "      <th>id_13</th>\n",
       "      <th>id_14</th>\n",
       "      <th>id_15</th>\n",
       "      <th>id_16</th>\n",
       "      <th>id_17</th>\n",
       "      <th>id_18</th>\n",
       "      <th>id_19</th>\n",
       "      <th>id_20</th>\n",
       "      <th>id_21</th>\n",
       "      <th>id_22</th>\n",
       "      <th>id_23</th>\n",
       "      <th>id_24</th>\n",
       "      <th>id_25</th>\n",
       "      <th>id_26</th>\n",
       "      <th>id_27</th>\n",
       "      <th>id_28</th>\n",
       "      <th>id_29</th>\n",
       "      <th>id_30</th>\n",
       "      <th>id_31</th>\n",
       "      <th>id_32</th>\n",
       "      <th>id_33</th>\n",
       "      <th>id_34</th>\n",
       "      <th>id_35</th>\n",
       "      <th>id_36</th>\n",
       "      <th>id_37</th>\n",
       "      <th>id_38</th>\n",
       "    </tr>\n",
       "  </thead>\n",
       "  <tbody>\n",
       "    <tr>\n",
       "      <th>0</th>\n",
       "      <td>NaN</td>\n",
       "      <td>NaN</td>\n",
       "      <td>NaN</td>\n",
       "      <td>NaN</td>\n",
       "      <td>NaN</td>\n",
       "      <td>NaN</td>\n",
       "      <td>NaN</td>\n",
       "      <td>NaN</td>\n",
       "      <td>NaN</td>\n",
       "      <td>NaN</td>\n",
       "      <td>NaN</td>\n",
       "      <td>NaN</td>\n",
       "      <td>NaN</td>\n",
       "      <td>NaN</td>\n",
       "      <td>NaN</td>\n",
       "      <td>NaN</td>\n",
       "      <td>NaN</td>\n",
       "      <td>NaN</td>\n",
       "      <td>NaN</td>\n",
       "      <td>NaN</td>\n",
       "      <td>NaN</td>\n",
       "      <td>NaN</td>\n",
       "      <td>NaN</td>\n",
       "      <td>NaN</td>\n",
       "      <td>NaN</td>\n",
       "      <td>NaN</td>\n",
       "      <td>NaN</td>\n",
       "      <td>NaN</td>\n",
       "      <td>NaN</td>\n",
       "      <td>NaN</td>\n",
       "      <td>NaN</td>\n",
       "      <td>NaN</td>\n",
       "      <td>NaN</td>\n",
       "      <td>NaN</td>\n",
       "      <td>NaN</td>\n",
       "      <td>NaN</td>\n",
       "      <td>NaN</td>\n",
       "      <td>NaN</td>\n",
       "    </tr>\n",
       "    <tr>\n",
       "      <th>1</th>\n",
       "      <td>NaN</td>\n",
       "      <td>NaN</td>\n",
       "      <td>NaN</td>\n",
       "      <td>NaN</td>\n",
       "      <td>NaN</td>\n",
       "      <td>NaN</td>\n",
       "      <td>NaN</td>\n",
       "      <td>NaN</td>\n",
       "      <td>NaN</td>\n",
       "      <td>NaN</td>\n",
       "      <td>NaN</td>\n",
       "      <td>NaN</td>\n",
       "      <td>NaN</td>\n",
       "      <td>NaN</td>\n",
       "      <td>NaN</td>\n",
       "      <td>NaN</td>\n",
       "      <td>NaN</td>\n",
       "      <td>NaN</td>\n",
       "      <td>NaN</td>\n",
       "      <td>NaN</td>\n",
       "      <td>NaN</td>\n",
       "      <td>NaN</td>\n",
       "      <td>NaN</td>\n",
       "      <td>NaN</td>\n",
       "      <td>NaN</td>\n",
       "      <td>NaN</td>\n",
       "      <td>NaN</td>\n",
       "      <td>NaN</td>\n",
       "      <td>NaN</td>\n",
       "      <td>NaN</td>\n",
       "      <td>NaN</td>\n",
       "      <td>NaN</td>\n",
       "      <td>NaN</td>\n",
       "      <td>NaN</td>\n",
       "      <td>NaN</td>\n",
       "      <td>NaN</td>\n",
       "      <td>NaN</td>\n",
       "      <td>NaN</td>\n",
       "    </tr>\n",
       "    <tr>\n",
       "      <th>2</th>\n",
       "      <td>NaN</td>\n",
       "      <td>NaN</td>\n",
       "      <td>NaN</td>\n",
       "      <td>NaN</td>\n",
       "      <td>NaN</td>\n",
       "      <td>NaN</td>\n",
       "      <td>NaN</td>\n",
       "      <td>NaN</td>\n",
       "      <td>NaN</td>\n",
       "      <td>NaN</td>\n",
       "      <td>NaN</td>\n",
       "      <td>NaN</td>\n",
       "      <td>NaN</td>\n",
       "      <td>NaN</td>\n",
       "      <td>NaN</td>\n",
       "      <td>NaN</td>\n",
       "      <td>NaN</td>\n",
       "      <td>NaN</td>\n",
       "      <td>NaN</td>\n",
       "      <td>NaN</td>\n",
       "      <td>NaN</td>\n",
       "      <td>NaN</td>\n",
       "      <td>NaN</td>\n",
       "      <td>NaN</td>\n",
       "      <td>NaN</td>\n",
       "      <td>NaN</td>\n",
       "      <td>NaN</td>\n",
       "      <td>NaN</td>\n",
       "      <td>NaN</td>\n",
       "      <td>NaN</td>\n",
       "      <td>NaN</td>\n",
       "      <td>NaN</td>\n",
       "      <td>NaN</td>\n",
       "      <td>NaN</td>\n",
       "      <td>NaN</td>\n",
       "      <td>NaN</td>\n",
       "      <td>NaN</td>\n",
       "      <td>NaN</td>\n",
       "    </tr>\n",
       "    <tr>\n",
       "      <th>3</th>\n",
       "      <td>NaN</td>\n",
       "      <td>NaN</td>\n",
       "      <td>NaN</td>\n",
       "      <td>NaN</td>\n",
       "      <td>NaN</td>\n",
       "      <td>NaN</td>\n",
       "      <td>NaN</td>\n",
       "      <td>NaN</td>\n",
       "      <td>NaN</td>\n",
       "      <td>NaN</td>\n",
       "      <td>NaN</td>\n",
       "      <td>NaN</td>\n",
       "      <td>NaN</td>\n",
       "      <td>NaN</td>\n",
       "      <td>NaN</td>\n",
       "      <td>NaN</td>\n",
       "      <td>NaN</td>\n",
       "      <td>NaN</td>\n",
       "      <td>NaN</td>\n",
       "      <td>NaN</td>\n",
       "      <td>NaN</td>\n",
       "      <td>NaN</td>\n",
       "      <td>NaN</td>\n",
       "      <td>NaN</td>\n",
       "      <td>NaN</td>\n",
       "      <td>NaN</td>\n",
       "      <td>NaN</td>\n",
       "      <td>NaN</td>\n",
       "      <td>NaN</td>\n",
       "      <td>NaN</td>\n",
       "      <td>NaN</td>\n",
       "      <td>NaN</td>\n",
       "      <td>NaN</td>\n",
       "      <td>NaN</td>\n",
       "      <td>NaN</td>\n",
       "      <td>NaN</td>\n",
       "      <td>NaN</td>\n",
       "      <td>NaN</td>\n",
       "    </tr>\n",
       "    <tr>\n",
       "      <th>4</th>\n",
       "      <td>0.0</td>\n",
       "      <td>70787.0</td>\n",
       "      <td>NaN</td>\n",
       "      <td>NaN</td>\n",
       "      <td>NaN</td>\n",
       "      <td>NaN</td>\n",
       "      <td>NaN</td>\n",
       "      <td>NaN</td>\n",
       "      <td>NaN</td>\n",
       "      <td>NaN</td>\n",
       "      <td>100.0</td>\n",
       "      <td>NotFound</td>\n",
       "      <td>NaN</td>\n",
       "      <td>-480.0</td>\n",
       "      <td>New</td>\n",
       "      <td>NotFound</td>\n",
       "      <td>166.0</td>\n",
       "      <td>NaN</td>\n",
       "      <td>542.0</td>\n",
       "      <td>144.0</td>\n",
       "      <td>NaN</td>\n",
       "      <td>NaN</td>\n",
       "      <td>NaN</td>\n",
       "      <td>NaN</td>\n",
       "      <td>NaN</td>\n",
       "      <td>NaN</td>\n",
       "      <td>NaN</td>\n",
       "      <td>New</td>\n",
       "      <td>NotFound</td>\n",
       "      <td>Android 7.0</td>\n",
       "      <td>samsung browser 6.2</td>\n",
       "      <td>32.0</td>\n",
       "      <td>2220x1080</td>\n",
       "      <td>match_status:2</td>\n",
       "      <td>T</td>\n",
       "      <td>F</td>\n",
       "      <td>T</td>\n",
       "      <td>T</td>\n",
       "    </tr>\n",
       "  </tbody>\n",
       "</table>\n",
       "</div>"
      ],
      "text/plain": [
       "   id_01    id_02  id_03  id_04  id_05  id_06  id_07  id_08  id_09  id_10  \\\n",
       "0    NaN      NaN    NaN    NaN    NaN    NaN    NaN    NaN    NaN    NaN   \n",
       "1    NaN      NaN    NaN    NaN    NaN    NaN    NaN    NaN    NaN    NaN   \n",
       "2    NaN      NaN    NaN    NaN    NaN    NaN    NaN    NaN    NaN    NaN   \n",
       "3    NaN      NaN    NaN    NaN    NaN    NaN    NaN    NaN    NaN    NaN   \n",
       "4    0.0  70787.0    NaN    NaN    NaN    NaN    NaN    NaN    NaN    NaN   \n",
       "\n",
       "   id_11     id_12  id_13  id_14 id_15     id_16  id_17  id_18  id_19  id_20  \\\n",
       "0    NaN       NaN    NaN    NaN   NaN       NaN    NaN    NaN    NaN    NaN   \n",
       "1    NaN       NaN    NaN    NaN   NaN       NaN    NaN    NaN    NaN    NaN   \n",
       "2    NaN       NaN    NaN    NaN   NaN       NaN    NaN    NaN    NaN    NaN   \n",
       "3    NaN       NaN    NaN    NaN   NaN       NaN    NaN    NaN    NaN    NaN   \n",
       "4  100.0  NotFound    NaN -480.0   New  NotFound  166.0    NaN  542.0  144.0   \n",
       "\n",
       "   id_21  id_22 id_23  id_24  id_25  id_26 id_27 id_28     id_29        id_30  \\\n",
       "0    NaN    NaN   NaN    NaN    NaN    NaN   NaN   NaN       NaN          NaN   \n",
       "1    NaN    NaN   NaN    NaN    NaN    NaN   NaN   NaN       NaN          NaN   \n",
       "2    NaN    NaN   NaN    NaN    NaN    NaN   NaN   NaN       NaN          NaN   \n",
       "3    NaN    NaN   NaN    NaN    NaN    NaN   NaN   NaN       NaN          NaN   \n",
       "4    NaN    NaN   NaN    NaN    NaN    NaN   NaN   New  NotFound  Android 7.0   \n",
       "\n",
       "                 id_31  id_32      id_33           id_34 id_35 id_36 id_37  \\\n",
       "0                  NaN    NaN        NaN             NaN   NaN   NaN   NaN   \n",
       "1                  NaN    NaN        NaN             NaN   NaN   NaN   NaN   \n",
       "2                  NaN    NaN        NaN             NaN   NaN   NaN   NaN   \n",
       "3                  NaN    NaN        NaN             NaN   NaN   NaN   NaN   \n",
       "4  samsung browser 6.2   32.0  2220x1080  match_status:2     T     F     T   \n",
       "\n",
       "  id_38  \n",
       "0   NaN  \n",
       "1   NaN  \n",
       "2   NaN  \n",
       "3   NaN  \n",
       "4     T  "
      ]
     },
     "execution_count": 42,
     "metadata": {},
     "output_type": "execute_result"
    }
   ],
   "source": [
    "train[id_cols].head()"
   ]
  },
  {
   "cell_type": "code",
   "execution_count": 43,
   "metadata": {},
   "outputs": [
    {
     "data": {
      "text/plain": [
       "id_01        77\n",
       "id_02    115655\n",
       "id_03        24\n",
       "id_04        15\n",
       "id_05        93\n",
       "id_06       101\n",
       "id_07        84\n",
       "id_08        94\n",
       "id_09        46\n",
       "id_10        62\n",
       "id_11       146\n",
       "id_12         2\n",
       "id_13        54\n",
       "id_14        25\n",
       "id_15         3\n",
       "id_16         2\n",
       "id_17       104\n",
       "id_18        18\n",
       "id_19       522\n",
       "id_20       394\n",
       "id_21       490\n",
       "id_22        25\n",
       "id_23         3\n",
       "id_24        12\n",
       "id_25       341\n",
       "id_26        95\n",
       "id_27         2\n",
       "id_28         2\n",
       "id_29         2\n",
       "id_30        75\n",
       "id_31       130\n",
       "id_32         4\n",
       "id_33       260\n",
       "id_34         4\n",
       "id_35         2\n",
       "id_36         2\n",
       "id_37         2\n",
       "id_38         2\n",
       "dtype: int64"
      ]
     },
     "execution_count": 43,
     "metadata": {},
     "output_type": "execute_result"
    }
   ],
   "source": [
    "train[id_cols].nunique()"
   ]
  },
  {
   "cell_type": "code",
   "execution_count": 44,
   "metadata": {},
   "outputs": [
    {
     "data": {
      "text/plain": [
       "id_01    0.755761\n",
       "id_02    0.761452\n",
       "id_03    0.887689\n",
       "id_04    0.887689\n",
       "id_05    0.768238\n",
       "id_06    0.768238\n",
       "id_07    0.991271\n",
       "id_08    0.991271\n",
       "id_09    0.873123\n",
       "id_10    0.873123\n",
       "id_11    0.761273\n",
       "id_12    0.755761\n",
       "id_13    0.784401\n",
       "id_14    0.864456\n",
       "id_15    0.761261\n",
       "id_16    0.780980\n",
       "id_17    0.763997\n",
       "id_18    0.923607\n",
       "id_19    0.764084\n",
       "id_20    0.764180\n",
       "id_21    0.991264\n",
       "id_22    0.991247\n",
       "id_23    0.991247\n",
       "id_24    0.991962\n",
       "id_25    0.991310\n",
       "id_26    0.991257\n",
       "id_27    0.991247\n",
       "id_28    0.761273\n",
       "id_29    0.761273\n",
       "id_30    0.868654\n",
       "id_31    0.762451\n",
       "id_32    0.868619\n",
       "id_33    0.875895\n",
       "id_34    0.868248\n",
       "id_35    0.761261\n",
       "id_36    0.761261\n",
       "id_37    0.761261\n",
       "id_38    0.761261\n",
       "dtype: float64"
      ]
     },
     "execution_count": 44,
     "metadata": {},
     "output_type": "execute_result"
    }
   ],
   "source": [
    "train[id_cols].isna().sum() / len(train)"
   ]
  },
  {
   "cell_type": "code",
   "execution_count": 45,
   "metadata": {},
   "outputs": [
    {
     "data": {
      "text/plain": [
       "<matplotlib.axes._subplots.AxesSubplot at 0x1a2e4b1588>"
      ]
     },
     "execution_count": 45,
     "metadata": {},
     "output_type": "execute_result"
    },
    {
     "data": {
      "image/png": "[encoded data removed]",
      "text/plain": [
       "<Figure size 432x288 with 1 Axes>"
      ]
     },
     "metadata": {
      "needs_background": "light"
     },
     "output_type": "display_data"
    }
   ],
   "source": [
    "sns.distplot(train[is_fraud]['id_02'].dropna(), kde=None)"
   ]
  },
  {
   "cell_type": "code",
   "execution_count": 46,
   "metadata": {},
   "outputs": [
    {
     "data": {
      "text/plain": [
       "<matplotlib.axes._subplots.AxesSubplot at 0x1a2e435208>"
      ]
     },
     "execution_count": 46,
     "metadata": {},
     "output_type": "execute_result"
    },
    {
     "data": {
      "image/png": "[encoded data removed]",
      "text/plain": [
       "<Figure size 432x288 with 1 Axes>"
      ]
     },
     "metadata": {
      "needs_background": "light"
     },
     "output_type": "display_data"
    }
   ],
   "source": [
    "sns.distplot(train[~is_fraud]['id_02'].dropna(), kde=None)"
   ]
  },
  {
   "cell_type": "code",
   "execution_count": 47,
   "metadata": {},
   "outputs": [
    {
     "data": {
      "text/plain": [
       "<matplotlib.axes._subplots.AxesSubplot at 0x1a2e235a90>"
      ]
     },
     "execution_count": 47,
     "metadata": {},
     "output_type": "execute_result"
    },
    {
     "data": {
      "image/png": "[encoded data removed]",
      "text/plain": [
       "<Figure size 432x288 with 1 Axes>"
      ]
     },
     "metadata": {
      "needs_background": "light"
     },
     "output_type": "display_data"
    }
   ],
   "source": [
    "sns.distplot(test['id_02'].dropna(), kde=None)"
   ]
  },
  {
   "cell_type": "code",
   "execution_count": 48,
   "metadata": {},
   "outputs": [
    {
     "name": "stdout",
     "output_type": "stream",
     "text": [
      "<class 'pandas.core.frame.DataFrame'>\n",
      "Int64Index: 590540 entries, 0 to 590539\n",
      "Data columns (total 38 columns):\n",
      "id_01    144233 non-null float16\n",
      "id_02    140872 non-null float32\n",
      "id_03    66324 non-null float16\n",
      "id_04    66324 non-null float16\n",
      "id_05    136865 non-null float16\n",
      "id_06    136865 non-null float16\n",
      "id_07    5155 non-null float16\n",
      "id_08    5155 non-null float16\n",
      "id_09    74926 non-null float16\n",
      "id_10    74926 non-null float16\n",
      "id_11    140978 non-null float16\n",
      "id_12    144233 non-null object\n",
      "id_13    127320 non-null float16\n",
      "id_14    80044 non-null float16\n",
      "id_15    140985 non-null object\n",
      "id_16    129340 non-null object\n",
      "id_17    139369 non-null float16\n",
      "id_18    45113 non-null float16\n",
      "id_19    139318 non-null float16\n",
      "id_20    139261 non-null float16\n",
      "id_21    5159 non-null float16\n",
      "id_22    5169 non-null float16\n",
      "id_23    5169 non-null object\n",
      "id_24    4747 non-null float16\n",
      "id_25    5132 non-null float16\n",
      "id_26    5163 non-null float16\n",
      "id_27    5169 non-null object\n",
      "id_28    140978 non-null object\n",
      "id_29    140978 non-null object\n",
      "id_30    77565 non-null object\n",
      "id_31    140282 non-null object\n",
      "id_32    77586 non-null float16\n",
      "id_33    73289 non-null object\n",
      "id_34    77805 non-null object\n",
      "id_35    140985 non-null object\n",
      "id_36    140985 non-null object\n",
      "id_37    140985 non-null object\n",
      "id_38    140985 non-null object\n",
      "dtypes: float16(22), float32(1), object(15)\n",
      "memory usage: 99.1+ MB\n"
     ]
    }
   ],
   "source": [
    "train[id_cols].info()"
   ]
  },
  {
   "cell_type": "markdown",
   "metadata": {},
   "source": [
    "## addr"
   ]
  },
  {
   "cell_type": "code",
   "execution_count": 95,
   "metadata": {},
   "outputs": [
    {
     "data": {
      "text/plain": [
       "2147483648"
      ]
     },
     "execution_count": 95,
     "metadata": {},
     "output_type": "execute_result"
    }
   ],
   "source": [
    "2 ** 31\n",
    "\n",
    "1534236469"
   ]
  },
  {
   "cell_type": "code",
   "execution_count": 49,
   "metadata": {},
   "outputs": [
    {
     "name": "stdout",
     "output_type": "stream",
     "text": [
      "<class 'pandas.core.frame.DataFrame'>\n",
      "Int64Index: 590540 entries, 0 to 590539\n",
      "Data columns (total 2 columns):\n",
      "addr1    524834 non-null float16\n",
      "addr2    524834 non-null float16\n",
      "dtypes: float16(2)\n",
      "memory usage: 6.8 MB\n"
     ]
    }
   ],
   "source": [
    "train[addr_cols].info()"
   ]
  },
  {
   "cell_type": "code",
   "execution_count": 50,
   "metadata": {},
   "outputs": [
    {
     "data": {
      "text/html": [
       "<div>\n",
       "<style scoped>\n",
       "    .dataframe tbody tr th:only-of-type {\n",
       "        vertical-align: middle;\n",
       "    }\n",
       "\n",
       "    .dataframe tbody tr th {\n",
       "        vertical-align: top;\n",
       "    }\n",
       "\n",
       "    .dataframe thead th {\n",
       "        text-align: right;\n",
       "    }\n",
       "</style>\n",
       "<table border=\"1\" class=\"dataframe\">\n",
       "  <thead>\n",
       "    <tr style=\"text-align: right;\">\n",
       "      <th></th>\n",
       "      <th>addr1</th>\n",
       "      <th>addr2</th>\n",
       "    </tr>\n",
       "  </thead>\n",
       "  <tbody>\n",
       "    <tr>\n",
       "      <th>0</th>\n",
       "      <td>315.0</td>\n",
       "      <td>87.0</td>\n",
       "    </tr>\n",
       "    <tr>\n",
       "      <th>1</th>\n",
       "      <td>325.0</td>\n",
       "      <td>87.0</td>\n",
       "    </tr>\n",
       "    <tr>\n",
       "      <th>2</th>\n",
       "      <td>330.0</td>\n",
       "      <td>87.0</td>\n",
       "    </tr>\n",
       "    <tr>\n",
       "      <th>3</th>\n",
       "      <td>476.0</td>\n",
       "      <td>87.0</td>\n",
       "    </tr>\n",
       "    <tr>\n",
       "      <th>4</th>\n",
       "      <td>420.0</td>\n",
       "      <td>87.0</td>\n",
       "    </tr>\n",
       "  </tbody>\n",
       "</table>\n",
       "</div>"
      ],
      "text/plain": [
       "   addr1  addr2\n",
       "0  315.0   87.0\n",
       "1  325.0   87.0\n",
       "2  330.0   87.0\n",
       "3  476.0   87.0\n",
       "4  420.0   87.0"
      ]
     },
     "execution_count": 50,
     "metadata": {},
     "output_type": "execute_result"
    }
   ],
   "source": [
    "train[addr_cols].head()"
   ]
  },
  {
   "cell_type": "code",
   "execution_count": 51,
   "metadata": {},
   "outputs": [
    {
     "data": {
      "text/plain": [
       "87.0     520481\n",
       "60.0       3084\n",
       "96.0        638\n",
       "32.0         91\n",
       "65.0         82\n",
       "16.0         55\n",
       "31.0         47\n",
       "19.0         33\n",
       "26.0         25\n",
       "27.0         20\n",
       "59.0         17\n",
       "69.0         17\n",
       "34.0         16\n",
       "43.0         12\n",
       "98.0         11\n",
       "29.0         11\n",
       "102.0        11\n",
       "68.0         10\n",
       "57.0         10\n",
       "78.0          8\n",
       "10.0          8\n",
       "17.0          7\n",
       "71.0          7\n",
       "13.0          7\n",
       "54.0          6\n",
       "72.0          6\n",
       "88.0          5\n",
       "52.0          5\n",
       "73.0          5\n",
       "21.0          5\n",
       "          ...  \n",
       "24.0          3\n",
       "20.0          3\n",
       "74.0          3\n",
       "92.0          2\n",
       "36.0          2\n",
       "23.0          2\n",
       "76.0          2\n",
       "86.0          2\n",
       "100.0         2\n",
       "63.0          2\n",
       "97.0          2\n",
       "66.0          2\n",
       "77.0          1\n",
       "84.0          1\n",
       "35.0          1\n",
       "22.0          1\n",
       "94.0          1\n",
       "93.0          1\n",
       "15.0          1\n",
       "89.0          1\n",
       "75.0          1\n",
       "25.0          1\n",
       "14.0          1\n",
       "83.0          1\n",
       "82.0          1\n",
       "55.0          1\n",
       "79.0          1\n",
       "49.0          1\n",
       "50.0          1\n",
       "70.0          1\n",
       "Name: addr2, Length: 74, dtype: int64"
      ]
     },
     "execution_count": 51,
     "metadata": {},
     "output_type": "execute_result"
    }
   ],
   "source": [
    "train['addr2'].value_counts()"
   ]
  },
  {
   "cell_type": "markdown",
   "metadata": {},
   "source": [
    "## V columns"
   ]
  },
  {
   "cell_type": "code",
   "execution_count": 93,
   "metadata": {},
   "outputs": [
    {
     "data": {
      "image/png": "[encoded data removed]",
      "text/plain": [
       "<Figure size 1296x1296 with 2 Axes>"
      ]
     },
     "metadata": {
      "needs_background": "light"
     },
     "output_type": "display_data"
    }
   ],
   "source": [
    "heatmap(train[V_cols[:50] + ['isFraud']].corr(), figsize=(18, 18))"
   ]
  },
  {
   "cell_type": "code",
   "execution_count": 94,
   "metadata": {},
   "outputs": [
    {
     "data": {
      "image/png": "[encoded data removed]",
      "text/plain": [
       "<Figure size 1296x1296 with 2 Axes>"
      ]
     },
     "metadata": {
      "needs_background": "light"
     },
     "output_type": "display_data"
    }
   ],
   "source": [
    "heatmap(train[V_cols[250:300] + ['isFraud']].corr(), figsize=(18, 18))"
   ]
  },
  {
   "cell_type": "code",
   "execution_count": null,
   "metadata": {},
   "outputs": [],
   "source": []
  },
  {
   "cell_type": "code",
   "execution_count": 89,
   "metadata": {},
   "outputs": [
    {
     "data": {
      "image/png": "[encoded data removed]",
      "text/plain": [
       "<Figure size 1296x1296 with 2 Axes>"
      ]
     },
     "metadata": {
      "needs_background": "light"
     },
     "output_type": "display_data"
    }
   ],
   "source": [
    "heatmap(test[V_cols[:50]].corr(), figsize=(18, 18))"
   ]
  },
  {
   "cell_type": "code",
   "execution_count": 85,
   "metadata": {},
   "outputs": [
    {
     "name": "stdout",
     "output_type": "stream",
     "text": [
      "MultiIndex(levels=[['b'], ['min', 'max', 'mean', 'std']],\n",
      "           codes=[[0, 0, 0, 0], [0, 1, 2, 3]])\n",
      "['T', '__abs__', '__add__', '__and__', '__array__', '__array_priority__', '__array_wrap__', '__bool__', '__bytes__', '__class__', '__contains__', '__copy__', '__deepcopy__', '__delattr__', '__dict__', '__dir__', '__divmod__', '__doc__', '__eq__', '__floordiv__', '__format__', '__ge__', '__getattribute__', '__getitem__', '__getslice__', '__gt__', '__hash__', '__iadd__', '__init__', '__init_subclass__', '__inv__', '__isub__', '__iter__', '__le__', '__len__', '__lt__', '__mod__', '__module__', '__mul__', '__ne__', '__neg__', '__new__', '__nonzero__', '__or__', '__pos__', '__pow__', '__radd__', '__reduce__', '__reduce_ex__', '__repr__', '__rfloordiv__', '__rmul__', '__rpow__', '__rsub__', '__rtruediv__', '__setattr__', '__setitem__', '__setstate__', '__sizeof__', '__str__', '__sub__', '__subclasshook__', '__truediv__', '__unicode__', '__weakref__', '__xor__', '_accessors', '_add_comparison_methods', '_add_logical_methods', '_add_logical_methods_disabled', '_add_numeric_methods', '_add_numeric_methods_add_sub_disabled', '_add_numeric_methods_binary', '_add_numeric_methods_disabled', '_add_numeric_methods_unary', '_assert_can_do_op', '_assert_can_do_setop', '_assert_take_fillable', '_attributes', '_can_hold_identifiers_and_holds_name', '_can_hold_na', '_can_reindex', '_cleanup', '_codes', '_coerce_scalar_to_index', '_coerce_to_ndarray', '_comparables', '_concat', '_concat_same_dtype', '_constructor', '_convert_arr_indexer', '_convert_can_do_setop', '_convert_for_op', '_convert_index_indexer', '_convert_list_indexer', '_convert_listlike_indexer', '_convert_scalar_indexer', '_convert_slice_indexer', '_convert_tolerance', '_data', '_defer_to_indexing', '_deprecations', '_dir_additions', '_dir_deletions', '_drop_from_level', '_engine', '_engine_type', '_evaluate_with_datetime_like', '_evaluate_with_timedelta_like', '_filter_indexer_tolerance', '_format_attrs', '_format_data', '_format_native_types', '_format_space', '_format_with_header', '_formatter_func', '_get_attributes_dict', '_get_codes_for_sorting', '_get_fill_indexer', '_get_fill_indexer_searchsorted', '_get_grouper_for_level', '_get_level_indexer', '_get_level_number', '_get_level_values', '_get_loc_only_exact_matches', '_get_names', '_get_nearest_indexer', '_get_reconciled_name_object', '_get_string_slice', '_get_unique_index', '_has_complex_internals', '_hashed_indexing_key', '_hashed_values', '_have_mixed_levels', '_id', '_infer_as_myclass', '_inferred_type_levels', '_inner_indexer', '_invalid_indexer', '_is_homogeneous_type', '_is_memory_usage_qualified', '_is_numeric_dtype', '_is_strictly_monotonic_decreasing', '_is_strictly_monotonic_increasing', '_isnan', '_join_level', '_join_monotonic', '_join_multi', '_join_non_unique', '_join_precedence', '_left_indexer', '_left_indexer_unique', '_levels', '_map_values', '_maybe_cast_indexer', '_maybe_cast_slice_bound', '_maybe_promote', '_maybe_update_attributes', '_mpl_repr', '_na_value', '_names', '_nan_idxs', '_nbytes', '_ndarray_values', '_outer_indexer', '_partial_tup_index', '_reduce', '_reindex_non_unique', '_reset_cache', '_reset_identity', '_scalar_data_error', '_searchsorted_monotonic', '_set_codes', '_set_levels', '_set_names', '_shallow_copy', '_shallow_copy_with_infer', '_simple_new', '_sort_levels_monotonic', '_string_data_error', '_summary', '_to_safe_for_reshape', '_try_convert_to_int_index', '_tuples', '_typ', '_unpickle_compat', '_update_inplace', '_validate_for_numeric_binop', '_validate_for_numeric_unaryop', '_validate_index_level', '_validate_indexer', '_validate_names', '_validate_sort_keyword', '_values', '_verify_integrity', '_wrap_joined_index', '_wrap_setop_result', 'all', 'any', 'append', 'argmax', 'argmin', 'argsort', 'array', 'asi8', 'asof', 'asof_locs', 'astype', 'codes', 'contains', 'copy', 'delete', 'difference', 'drop', 'drop_duplicates', 'droplevel', 'dropna', 'dtype', 'dtype_str', 'duplicated', 'empty', 'equal_levels', 'equals', 'factorize', 'fillna', 'format', 'from_arrays', 'from_frame', 'from_product', 'from_tuples', 'get_duplicates', 'get_indexer', 'get_indexer_for', 'get_indexer_non_unique', 'get_level_values', 'get_loc', 'get_loc_level', 'get_locs', 'get_slice_bound', 'get_value', 'get_values', 'groupby', 'has_duplicates', 'hasnans', 'holds_integer', 'identical', 'inferred_type', 'insert', 'intersection', 'is_', 'is_all_dates', 'is_boolean', 'is_categorical', 'is_floating', 'is_integer', 'is_interval', 'is_lexsorted', 'is_lexsorted_for_tuple', 'is_mixed', 'is_monotonic', 'is_monotonic_decreasing', 'is_monotonic_increasing', 'is_numeric', 'is_object', 'is_type_compatible', 'is_unique', 'isin', 'isna', 'isnull', 'item', 'join', 'labels', 'levels', 'levshape', 'lexsort_depth', 'map', 'max', 'memory_usage', 'min', 'name', 'names', 'nbytes', 'ndim', 'nlevels', 'notna', 'notnull', 'nunique', 'putmask', 'ravel', 'reindex', 'remove_unused_levels', 'rename', 'reorder_levels', 'repeat', 'searchsorted', 'set_codes', 'set_labels', 'set_levels', 'set_names', 'set_value', 'shape', 'shift', 'size', 'slice_indexer', 'slice_locs', 'sort', 'sort_values', 'sortlevel', 'summary', 'swaplevel', 'symmetric_difference', 'take', 'to_flat_index', 'to_frame', 'to_hierarchical', 'to_list', 'to_native_types', 'to_numpy', 'to_series', 'transpose', 'truncate', 'union', 'unique', 'value_counts', 'values', 'view', 'where']\n"
     ]
    },
    {
     "data": {
      "text/html": [
       "<div>\n",
       "<style scoped>\n",
       "    .dataframe tbody tr th:only-of-type {\n",
       "        vertical-align: middle;\n",
       "    }\n",
       "\n",
       "    .dataframe tbody tr th {\n",
       "        vertical-align: top;\n",
       "    }\n",
       "\n",
       "    .dataframe thead th {\n",
       "        text-align: right;\n",
       "    }\n",
       "</style>\n",
       "<table border=\"1\" class=\"dataframe\">\n",
       "  <thead>\n",
       "    <tr style=\"text-align: right;\">\n",
       "      <th></th>\n",
       "      <th>b_min</th>\n",
       "      <th>b_max</th>\n",
       "      <th>b_mean</th>\n",
       "      <th>b_std</th>\n",
       "    </tr>\n",
       "    <tr>\n",
       "      <th>a</th>\n",
       "      <th></th>\n",
       "      <th></th>\n",
       "      <th></th>\n",
       "      <th></th>\n",
       "    </tr>\n",
       "  </thead>\n",
       "  <tbody>\n",
       "    <tr>\n",
       "      <th>0</th>\n",
       "      <td>10</td>\n",
       "      <td>40</td>\n",
       "      <td>25</td>\n",
       "      <td>21.213203</td>\n",
       "    </tr>\n",
       "    <tr>\n",
       "      <th>1</th>\n",
       "      <td>20</td>\n",
       "      <td>50</td>\n",
       "      <td>35</td>\n",
       "      <td>21.213203</td>\n",
       "    </tr>\n",
       "    <tr>\n",
       "      <th>2</th>\n",
       "      <td>30</td>\n",
       "      <td>30</td>\n",
       "      <td>30</td>\n",
       "      <td>NaN</td>\n",
       "    </tr>\n",
       "    <tr>\n",
       "      <th>3</th>\n",
       "      <td>60</td>\n",
       "      <td>60</td>\n",
       "      <td>60</td>\n",
       "      <td>NaN</td>\n",
       "    </tr>\n",
       "  </tbody>\n",
       "</table>\n",
       "</div>"
      ],
      "text/plain": [
       "   b_min  b_max  b_mean      b_std\n",
       "a                                 \n",
       "0     10     40      25  21.213203\n",
       "1     20     50      35  21.213203\n",
       "2     30     30      30        NaN\n",
       "3     60     60      60        NaN"
      ]
     },
     "execution_count": 85,
     "metadata": {},
     "output_type": "execute_result"
    }
   ],
   "source": [
    "tr = pd.DataFrame({'a': [0, 1, 2], 'b': [10, 20, 30]})\n",
    "te = pd.DataFrame({'a': [0, 1, 3], 'b': [40, 50, 60]})\n",
    "tr_te = pd.concat((tr, te), axis=0)\n",
    "\n",
    "aggs = {'b': ['min', 'max', 'mean', 'std']}\n",
    "agg = tr_te.groupby('a').agg(aggs)\n",
    "print(agg.columns)\n",
    "print(dir(agg.columns))\n",
    "new_columns = ['{0}_{1}'.format(c0, c1) for c0 in agg.columns.levels[0] for c1 in agg.columns.levels[1]]\n",
    "agg.columns = new_columns\n",
    "agg"
   ]
  },
  {
   "cell_type": "code",
   "execution_count": 86,
   "metadata": {},
   "outputs": [
    {
     "data": {
      "text/html": [
       "<div>\n",
       "<style scoped>\n",
       "    .dataframe tbody tr th:only-of-type {\n",
       "        vertical-align: middle;\n",
       "    }\n",
       "\n",
       "    .dataframe tbody tr th {\n",
       "        vertical-align: top;\n",
       "    }\n",
       "\n",
       "    .dataframe thead th {\n",
       "        text-align: right;\n",
       "    }\n",
       "</style>\n",
       "<table border=\"1\" class=\"dataframe\">\n",
       "  <thead>\n",
       "    <tr style=\"text-align: right;\">\n",
       "      <th></th>\n",
       "      <th>a</th>\n",
       "      <th>b</th>\n",
       "      <th>b_min</th>\n",
       "      <th>b_max</th>\n",
       "      <th>b_mean</th>\n",
       "      <th>b_std</th>\n",
       "    </tr>\n",
       "  </thead>\n",
       "  <tbody>\n",
       "    <tr>\n",
       "      <th>0</th>\n",
       "      <td>0</td>\n",
       "      <td>10</td>\n",
       "      <td>10</td>\n",
       "      <td>40</td>\n",
       "      <td>25</td>\n",
       "      <td>21.213203</td>\n",
       "    </tr>\n",
       "    <tr>\n",
       "      <th>1</th>\n",
       "      <td>1</td>\n",
       "      <td>20</td>\n",
       "      <td>20</td>\n",
       "      <td>50</td>\n",
       "      <td>35</td>\n",
       "      <td>21.213203</td>\n",
       "    </tr>\n",
       "    <tr>\n",
       "      <th>2</th>\n",
       "      <td>2</td>\n",
       "      <td>30</td>\n",
       "      <td>30</td>\n",
       "      <td>30</td>\n",
       "      <td>30</td>\n",
       "      <td>NaN</td>\n",
       "    </tr>\n",
       "  </tbody>\n",
       "</table>\n",
       "</div>"
      ],
      "text/plain": [
       "   a   b  b_min  b_max  b_mean      b_std\n",
       "0  0  10     10     40      25  21.213203\n",
       "1  1  20     20     50      35  21.213203\n",
       "2  2  30     30     30      30        NaN"
      ]
     },
     "execution_count": 86,
     "metadata": {},
     "output_type": "execute_result"
    }
   ],
   "source": [
    "tr.merge(agg, on='a')"
   ]
  },
  {
   "cell_type": "code",
   "execution_count": 72,
   "metadata": {},
   "outputs": [
    {
     "data": {
      "text/html": [
       "<div>\n",
       "<style scoped>\n",
       "    .dataframe tbody tr th:only-of-type {\n",
       "        vertical-align: middle;\n",
       "    }\n",
       "\n",
       "    .dataframe tbody tr th {\n",
       "        vertical-align: top;\n",
       "    }\n",
       "\n",
       "    .dataframe thead th {\n",
       "        text-align: right;\n",
       "    }\n",
       "</style>\n",
       "<table border=\"1\" class=\"dataframe\">\n",
       "  <thead>\n",
       "    <tr style=\"text-align: right;\">\n",
       "      <th></th>\n",
       "      <th>a</th>\n",
       "      <th>b</th>\n",
       "      <th>b_min</th>\n",
       "      <th>b_max</th>\n",
       "      <th>b_mean</th>\n",
       "    </tr>\n",
       "  </thead>\n",
       "  <tbody>\n",
       "    <tr>\n",
       "      <th>0</th>\n",
       "      <td>0</td>\n",
       "      <td>10</td>\n",
       "      <td>10</td>\n",
       "      <td>40</td>\n",
       "      <td>25</td>\n",
       "    </tr>\n",
       "    <tr>\n",
       "      <th>1</th>\n",
       "      <td>1</td>\n",
       "      <td>20</td>\n",
       "      <td>20</td>\n",
       "      <td>50</td>\n",
       "      <td>35</td>\n",
       "    </tr>\n",
       "    <tr>\n",
       "      <th>2</th>\n",
       "      <td>2</td>\n",
       "      <td>30</td>\n",
       "      <td>30</td>\n",
       "      <td>30</td>\n",
       "      <td>30</td>\n",
       "    </tr>\n",
       "  </tbody>\n",
       "</table>\n",
       "</div>"
      ],
      "text/plain": [
       "   a   b  b_min  b_max  b_mean\n",
       "0  0  10     10     40      25\n",
       "1  1  20     20     50      35\n",
       "2  2  30     30     30      30"
      ]
     },
     "execution_count": 72,
     "metadata": {},
     "output_type": "execute_result"
    }
   ],
   "source": [
    "tr.merge(agg, on='a')"
   ]
  },
  {
   "cell_type": "code",
   "execution_count": null,
   "metadata": {},
   "outputs": [],
   "source": []
  }
 ],
 "metadata": {
  "kernelspec": {
   "display_name": "Python 3",
   "language": "python",
   "name": "python3"
  },
  "language_info": {
   "codemirror_mode": {
    "name": "ipython",
    "version": 3
   },
   "file_extension": ".py",
   "mimetype": "text/x-python",
   "name": "python",
   "nbconvert_exporter": "python",
   "pygments_lexer": "ipython3",
   "version": "3.7.3"
  }
 },
 "nbformat": 4,
 "nbformat_minor": 1
}
